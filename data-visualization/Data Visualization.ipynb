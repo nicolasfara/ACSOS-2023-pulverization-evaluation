{
 "cells": [
  {
   "cell_type": "code",
   "execution_count": 1,
   "id": "fe491def",
   "metadata": {
    "tags": []
   },
   "outputs": [],
   "source": [
    "import numpy as np\n",
    "import xarray as xr\n",
    "import re\n",
    "from pathlib import Path\n",
    "import collections\n",
    "import matplotlib\n",
    "import matplotlib.pyplot as plt\n",
    "import matplotlib.cm as cmx\n",
    "import matplotlib.font_manager as fm\n",
    "\n",
    "from utils import *"
   ]
  },
  {
   "cell_type": "code",
   "execution_count": 2,
   "id": "901967cf",
   "metadata": {
    "tags": []
   },
   "outputs": [],
   "source": [
    "# CONFIGURE SCRIPT\n",
    "# Where to find Alchemist data files\n",
    "directory = '../data'\n",
    "# Where to save charts\n",
    "output_directory = 'custom-charts'\n",
    "# How to name the summary of the processed data\n",
    "pickleOutput = 'data_summary'\n",
    "# Experiment prefixes: one per experiment (root of the file name)\n",
    "experiments = ['export']\n",
    "floatPrecision = '{: 0.3f}'\n",
    "# Number of time samples \n",
    "timeSamples = 80\n",
    "# time management\n",
    "minTime = 60\n",
    "maxTime = 12 * 3600\n",
    "timeColumnName = 'time'\n",
    "logarithmicTime = False\n",
    "# One or more variables are considered random and \"flattened\"\n",
    "seedVars = ['seed']\n",
    "# Label mapping\n"
   ]
  },
  {
   "cell_type": "code",
   "execution_count": 3,
   "id": "fc9f771c",
   "metadata": {
    "tags": []
   },
   "outputs": [],
   "source": [
    "if os.path.exists(directory):\n",
    "    newestFileTime = max([os.path.getmtime(directory + '/' + file) for file in os.listdir(directory)], default=0.0)\n",
    "    try:\n",
    "        lastTimeProcessed = pickle.load(open('timeprocessed', 'rb'))\n",
    "    except:\n",
    "        lastTimeProcessed = -1\n",
    "    shouldRecompute = not os.path.exists(\".skip_data_process\") and newestFileTime != lastTimeProcessed\n",
    "    if not shouldRecompute:\n",
    "        try:\n",
    "            means = pickle.load(open(pickleOutput + '_mean', 'rb'))\n",
    "            stdevs = pickle.load(open(pickleOutput + '_std', 'rb'))\n",
    "        except:\n",
    "            shouldRecompute = True\n",
    "    if shouldRecompute:\n",
    "        timefun = np.logspace if logarithmicTime else np.linspace\n",
    "        means = {}\n",
    "        stdevs = {}\n",
    "        for experiment in experiments:\n",
    "            # Collect all files for the experiment of interest\n",
    "            import fnmatch\n",
    "            allfiles = filter(lambda file: fnmatch.fnmatch(file, experiment + '_*.csv'), os.listdir(directory))\n",
    "            allfiles = [directory + '/' + name for name in allfiles]\n",
    "            allfiles.sort()\n",
    "            # From the file name, extract the independent variables\n",
    "            dimensions = {}\n",
    "            for file in allfiles:\n",
    "                dimensions = mergeDicts(dimensions, extractCoordinates(file))\n",
    "            dimensions = {k: sorted(v) for k, v in dimensions.items()}\n",
    "            # Add time to the independent variables\n",
    "            dimensions[timeColumnName] = range(0, timeSamples)\n",
    "            # Compute the matrix shape\n",
    "            shape = tuple(len(v) for k, v in dimensions.items())\n",
    "            # Prepare the Dataset\n",
    "            dataset = xr.Dataset()\n",
    "            for k, v in dimensions.items():\n",
    "                dataset.coords[k] = v\n",
    "            if len(allfiles) == 0:\n",
    "                print(\"WARNING: No data for experiment \" + experiment)\n",
    "                means[experiment] = dataset\n",
    "                stdevs[experiment] = xr.Dataset()\n",
    "            else:\n",
    "                varNames = extractVariableNames(allfiles[0])\n",
    "                for v in varNames:\n",
    "                    if v != timeColumnName:\n",
    "                        novals = np.ndarray(shape)\n",
    "                        novals.fill(float('nan'))\n",
    "                        dataset[v] = (dimensions.keys(), novals)\n",
    "                # Compute maximum and minimum time, create the resample\n",
    "                timeColumn = varNames.index(timeColumnName)\n",
    "                allData = { file: np.matrix(openCsv(file)) for file in allfiles }\n",
    "                computeMin = minTime is None\n",
    "                computeMax = maxTime is None\n",
    "                if computeMax:\n",
    "                    maxTime = float('-inf')\n",
    "                    for data in allData.values():\n",
    "                        maxTime = max(maxTime, data[-1, timeColumn])\n",
    "                if computeMin:\n",
    "                    minTime = float('inf')\n",
    "                    for data in allData.values():\n",
    "                        minTime = min(minTime, data[0, timeColumn])\n",
    "                timeline = timefun(minTime, maxTime, timeSamples)\n",
    "                # Resample\n",
    "                for file in allData:\n",
    "#                    print(file)\n",
    "                    allData[file] = convert(timeColumn, timeline, allData[file])\n",
    "                # Populate the dataset\n",
    "                for file, data in allData.items():\n",
    "                    dataset[timeColumnName] = timeline\n",
    "                    for idx, v in enumerate(varNames):\n",
    "                        if v != timeColumnName:\n",
    "                            darray = dataset[v]\n",
    "                            experimentVars = extractCoordinates(file)\n",
    "                            darray.loc[experimentVars] = data[:, idx].A1\n",
    "                # Fold the dataset along the seed variables, producing the mean and stdev datasets\n",
    "                mergingVariables = [seed for seed in seedVars if seed in dataset.coords]\n",
    "                means[experiment] = dataset.mean(dim = mergingVariables, skipna=True)\n",
    "                stdevs[experiment] = dataset.std(dim = mergingVariables, skipna=True)\n",
    "        # Save the datasets\n",
    "        pickle.dump(means, open(pickleOutput + '_mean', 'wb'), protocol=-1)\n",
    "        pickle.dump(stdevs, open(pickleOutput + '_std', 'wb'), protocol=-1)\n",
    "        pickle.dump(newestFileTime, open('timeprocessed', 'wb'))\n",
    "else:\n",
    "    means = { experiment: xr.Dataset() for experiment in experiments }\n",
    "    stdevs = { experiment: xr.Dataset() for experiment in experiments }\n",
    "    \n",
    "for experiment in experiments:\n",
    "    current_experiment_means = means[experiment]\n",
    "    current_experiment_errors = stdevs[experiment]"
   ]
  },
  {
   "cell_type": "code",
   "execution_count": 72,
   "id": "8efa3484",
   "metadata": {
    "scrolled": true,
    "tags": []
   },
   "outputs": [],
   "source": [
    "consumptions = current_experiment_means[\n",
    "    { 'batteryConsumption[sum]', 'cloudConsumption[sum]', 'totalConsumption[sum]' }\n",
    "].mean(dim = { 'epi_ratio', 'device_count', 'cloud_epi', 'battery_discharge_time' }, skipna = True)\n",
    "\n",
    "charging = current_experiment_means[\n",
    "    { 'isCharging[sum]' }\n",
    "].mean(dim = { 'epi_ratio', 'device_count', 'cloud_epi', 'battery_discharge_time' }, skipna = True)\n",
    "\n",
    "batteryPercentage = current_experiment_means[\n",
    "    { 'batteryPercentage[mean]' }\n",
    "].mean(dim = { 'epi_ratio', 'device_count', 'cloud_epi', 'battery_discharge_time' }, skipna = True)"
   ]
  },
  {
   "cell_type": "code",
   "execution_count": 73,
   "id": "06e1680e",
   "metadata": {
    "tags": []
   },
   "outputs": [
    {
     "data": {
      "text/html": [
       "<div>\n",
       "<style scoped>\n",
       "    .dataframe tbody tr th:only-of-type {\n",
       "        vertical-align: middle;\n",
       "    }\n",
       "\n",
       "    .dataframe tbody tr th {\n",
       "        vertical-align: top;\n",
       "    }\n",
       "\n",
       "    .dataframe thead th {\n",
       "        text-align: right;\n",
       "    }\n",
       "</style>\n",
       "<table border=\"1\" class=\"dataframe\">\n",
       "  <thead>\n",
       "    <tr style=\"text-align: right;\">\n",
       "      <th></th>\n",
       "      <th></th>\n",
       "      <th>cloudConsumption[sum]</th>\n",
       "      <th>batteryConsumption[sum]</th>\n",
       "      <th>totalConsumption[sum]</th>\n",
       "    </tr>\n",
       "    <tr>\n",
       "      <th>low_battery_threshold</th>\n",
       "      <th>high_battery_threshold</th>\n",
       "      <th></th>\n",
       "      <th></th>\n",
       "      <th></th>\n",
       "    </tr>\n",
       "  </thead>\n",
       "  <tbody>\n",
       "    <tr>\n",
       "      <th>0.0</th>\n",
       "      <th>100.0</th>\n",
       "      <td>0.000000</td>\n",
       "      <td>460.783967</td>\n",
       "      <td>460.761111</td>\n",
       "    </tr>\n",
       "    <tr>\n",
       "      <th rowspan=\"2\" valign=\"top\">30.0</th>\n",
       "      <th>70.0</th>\n",
       "      <td>3085.527000</td>\n",
       "      <td>371.088713</td>\n",
       "      <td>3456.611437</td>\n",
       "    </tr>\n",
       "    <tr>\n",
       "      <th>100.0</th>\n",
       "      <td>5043.652254</td>\n",
       "      <td>305.341809</td>\n",
       "      <td>5348.982117</td>\n",
       "    </tr>\n",
       "  </tbody>\n",
       "</table>\n",
       "</div>"
      ],
      "text/plain": [
       "                                              cloudConsumption[sum]   \n",
       "low_battery_threshold high_battery_threshold                          \n",
       "0.0                   100.0                                0.000000  \\\n",
       "30.0                  70.0                              3085.527000   \n",
       "                      100.0                             5043.652254   \n",
       "\n",
       "                                              batteryConsumption[sum]   \n",
       "low_battery_threshold high_battery_threshold                            \n",
       "0.0                   100.0                                460.783967  \\\n",
       "30.0                  70.0                                 371.088713   \n",
       "                      100.0                                305.341809   \n",
       "\n",
       "                                              totalConsumption[sum]  \n",
       "low_battery_threshold high_battery_threshold                         \n",
       "0.0                   100.0                              460.761111  \n",
       "30.0                  70.0                              3456.611437  \n",
       "                      100.0                             5348.982117  "
      ]
     },
     "execution_count": 73,
     "metadata": {},
     "output_type": "execute_result"
    }
   ],
   "source": [
    "consumptions_mean = consumptions.mean(dim = { 'time' }, skipna = True)\n",
    "consumption_df = consumptions_mean.to_dataframe().tail(-1)\n",
    "consumption_df"
   ]
  },
  {
   "cell_type": "code",
   "execution_count": 74,
   "id": "1d6ebe97",
   "metadata": {
    "tags": []
   },
   "outputs": [
    {
     "data": {
      "text/html": [
       "<div>\n",
       "<style scoped>\n",
       "    .dataframe tbody tr th:only-of-type {\n",
       "        vertical-align: middle;\n",
       "    }\n",
       "\n",
       "    .dataframe tbody tr th {\n",
       "        vertical-align: top;\n",
       "    }\n",
       "\n",
       "    .dataframe thead th {\n",
       "        text-align: right;\n",
       "    }\n",
       "</style>\n",
       "<table border=\"1\" class=\"dataframe\">\n",
       "  <thead>\n",
       "    <tr style=\"text-align: right;\">\n",
       "      <th></th>\n",
       "      <th></th>\n",
       "      <th>isCharging[sum]</th>\n",
       "    </tr>\n",
       "    <tr>\n",
       "      <th>low_battery_threshold</th>\n",
       "      <th>high_battery_threshold</th>\n",
       "      <th></th>\n",
       "    </tr>\n",
       "  </thead>\n",
       "  <tbody>\n",
       "    <tr>\n",
       "      <th>0.0</th>\n",
       "      <th>100.0</th>\n",
       "      <td>2305.354167</td>\n",
       "    </tr>\n",
       "    <tr>\n",
       "      <th rowspan=\"2\" valign=\"top\">30.0</th>\n",
       "      <th>70.0</th>\n",
       "      <td>1605.866667</td>\n",
       "    </tr>\n",
       "    <tr>\n",
       "      <th>100.0</th>\n",
       "      <td>1479.879167</td>\n",
       "    </tr>\n",
       "  </tbody>\n",
       "</table>\n",
       "</div>"
      ],
      "text/plain": [
       "                                              isCharging[sum]\n",
       "low_battery_threshold high_battery_threshold                 \n",
       "0.0                   100.0                       2305.354167\n",
       "30.0                  70.0                        1605.866667\n",
       "                      100.0                       1479.879167"
      ]
     },
     "execution_count": 74,
     "metadata": {},
     "output_type": "execute_result"
    }
   ],
   "source": [
    "charging_sum = charging.sum(dim = { 'time' }, skipna = True)\n",
    "charging_df = charging_sum.to_dataframe().tail(-1)\n",
    "charging_df"
   ]
  },
  {
   "cell_type": "code",
   "execution_count": 75,
   "id": "df1854ee-b8c0-4a61-b262-42745324ae58",
   "metadata": {
    "tags": []
   },
   "outputs": [
    {
     "data": {
      "text/plain": [
       "<Axes: xlabel='low_battery_threshold,high_battery_threshold'>"
      ]
     },
     "execution_count": 75,
     "metadata": {},
     "output_type": "execute_result"
    },
    {
     "data": {
      "image/png": "[encoded data removed]",
      "text/plain": [
       "<Figure size 640x480 with 1 Axes>"
      ]
     },
     "metadata": {},
     "output_type": "display_data"
    }
   ],
   "source": [
    "import pandas as pd\n",
    "result = pd.concat([consumption_df, charging_df], axis=1, join='inner')\n",
    "result.plot.bar()"
   ]
  },
  {
   "cell_type": "code",
   "execution_count": null,
   "id": "dbf3ad3f-003c-44d6-9bf4-f787c85093a8",
   "metadata": {},
   "outputs": [],
   "source": []
  }
 ],
 "metadata": {
  "kernelspec": {
   "display_name": "Python 3 (ipykernel)",
   "language": "python",
   "name": "python3"
  },
  "language_info": {
   "codemirror_mode": {
    "name": "ipython",
    "version": 3
   },
   "file_extension": ".py",
   "mimetype": "text/x-python",
   "name": "python",
   "nbconvert_exporter": "python",
   "pygments_lexer": "ipython3",
   "version": "3.10.10"
  }
 },
 "nbformat": 4,
 "nbformat_minor": 5
}
